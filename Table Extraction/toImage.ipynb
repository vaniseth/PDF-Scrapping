{
 "cells": [
  {
   "cell_type": "code",
   "execution_count": null,
   "metadata": {},
   "outputs": [],
   "source": [
    "import os\n",
    "import pytesseract\n",
    "from pdf2image import convert_from_path\n",
    "\n",
    "pdf_dir = 'E:/PDF Scraping/PDFs/'\n",
    "output_dir = './images/'\n",
    "os.makedirs(output_dir, exist_ok=True)\n",
    "\n",
    "for filename in os.listdir(pdf_dir):\n",
    "    if filename.endswith('.pdf'):\n",
    "        pdf_path = os.path.join(pdf_dir, filename)\n",
    "        images = convert_from_path(pdf_path, dpi=300)  \n",
    "        for i, image in enumerate(images):\n",
    "            image_path = os.path.join(output_dir, f'{os.path.splitext(filename)[0]}_{i}.jpg')\n",
    "            image.save(image_path, 'JPEG')  \n",
    "            \n",
    "        print(f'Converted {filename} to images and saved to {output_dir}')\n"
   ]
  }
 ],
 "metadata": {
  "language_info": {
   "name": "python"
  },
  "orig_nbformat": 4
 },
 "nbformat": 4,
 "nbformat_minor": 2
}
